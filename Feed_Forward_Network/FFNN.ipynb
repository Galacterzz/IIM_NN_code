{
 "cells": [
  {
   "cell_type": "code",
   "execution_count": 1,
   "id": "3d38bbda",
   "metadata": {},
   "outputs": [],
   "source": [
    "import pandas as pd\n",
    "import numpy as np\n",
    "import tensorflow as tf\n",
    "# from tensorflow.keras.models import Sequential\n",
    "# from tensorflow.keras.layers import Dense, Dropout, LSTM, Embedding, Bidirectional\n"
   ]
  },
  {
   "cell_type": "code",
   "execution_count": 2,
   "id": "75a0c94d",
   "metadata": {},
   "outputs": [
    {
     "data": {
      "text/html": [
       "<div>\n",
       "<style scoped>\n",
       "    .dataframe tbody tr th:only-of-type {\n",
       "        vertical-align: middle;\n",
       "    }\n",
       "\n",
       "    .dataframe tbody tr th {\n",
       "        vertical-align: top;\n",
       "    }\n",
       "\n",
       "    .dataframe thead th {\n",
       "        text-align: right;\n",
       "    }\n",
       "</style>\n",
       "<table border=\"1\" class=\"dataframe\">\n",
       "  <thead>\n",
       "    <tr style=\"text-align: right;\">\n",
       "      <th></th>\n",
       "      <th>Asset_ID</th>\n",
       "      <th>Location</th>\n",
       "      <th>Temperature</th>\n",
       "      <th>Vibration</th>\n",
       "      <th>Last_Maintenance</th>\n",
       "      <th>Condition_Score</th>\n",
       "      <th>Resource_Utilization</th>\n",
       "      <th>Delivery_Efficiency</th>\n",
       "      <th>Downtime_Hours</th>\n",
       "      <th>Inventory_Level</th>\n",
       "      <th>Logistics_Cost</th>\n",
       "      <th>Timestamp</th>\n",
       "      <th>SupplyChain_Efficiency_Label</th>\n",
       "    </tr>\n",
       "  </thead>\n",
       "  <tbody>\n",
       "    <tr>\n",
       "      <th>0</th>\n",
       "      <td>A0001</td>\n",
       "      <td>Lake Davidland</td>\n",
       "      <td>32.34</td>\n",
       "      <td>3.99</td>\n",
       "      <td>2023-09-28</td>\n",
       "      <td>67.39</td>\n",
       "      <td>87.04</td>\n",
       "      <td>79.99</td>\n",
       "      <td>3.22</td>\n",
       "      <td>Medium</td>\n",
       "      <td>5148.45</td>\n",
       "      <td>2024-09-13 19:31:26</td>\n",
       "      <td>0</td>\n",
       "    </tr>\n",
       "    <tr>\n",
       "      <th>1</th>\n",
       "      <td>A0002</td>\n",
       "      <td>West Andrew</td>\n",
       "      <td>25.99</td>\n",
       "      <td>0.80</td>\n",
       "      <td>2023-04-26</td>\n",
       "      <td>76.44</td>\n",
       "      <td>81.06</td>\n",
       "      <td>92.07</td>\n",
       "      <td>2.89</td>\n",
       "      <td>Low</td>\n",
       "      <td>4454.82</td>\n",
       "      <td>2023-09-17 22:20:17</td>\n",
       "      <td>1</td>\n",
       "    </tr>\n",
       "    <tr>\n",
       "      <th>2</th>\n",
       "      <td>A0003</td>\n",
       "      <td>New Kimberlyhaven</td>\n",
       "      <td>31.45</td>\n",
       "      <td>4.75</td>\n",
       "      <td>2024-12-23</td>\n",
       "      <td>61.85</td>\n",
       "      <td>79.64</td>\n",
       "      <td>88.15</td>\n",
       "      <td>1.65</td>\n",
       "      <td>High</td>\n",
       "      <td>3977.16</td>\n",
       "      <td>2024-09-08 19:32:27</td>\n",
       "      <td>1</td>\n",
       "    </tr>\n",
       "    <tr>\n",
       "      <th>3</th>\n",
       "      <td>A0004</td>\n",
       "      <td>Lake Cathyside</td>\n",
       "      <td>26.55</td>\n",
       "      <td>4.37</td>\n",
       "      <td>2024-10-22</td>\n",
       "      <td>63.60</td>\n",
       "      <td>79.88</td>\n",
       "      <td>72.63</td>\n",
       "      <td>8.07</td>\n",
       "      <td>Low</td>\n",
       "      <td>3248.65</td>\n",
       "      <td>2023-10-28 06:48:55</td>\n",
       "      <td>0</td>\n",
       "    </tr>\n",
       "    <tr>\n",
       "      <th>4</th>\n",
       "      <td>A0005</td>\n",
       "      <td>South Justin</td>\n",
       "      <td>41.66</td>\n",
       "      <td>1.43</td>\n",
       "      <td>2024-08-17</td>\n",
       "      <td>61.62</td>\n",
       "      <td>65.99</td>\n",
       "      <td>74.93</td>\n",
       "      <td>1.83</td>\n",
       "      <td>High</td>\n",
       "      <td>3121.08</td>\n",
       "      <td>2023-10-06 05:02:02</td>\n",
       "      <td>0</td>\n",
       "    </tr>\n",
       "    <tr>\n",
       "      <th>5</th>\n",
       "      <td>A0006</td>\n",
       "      <td>Ellisonton</td>\n",
       "      <td>45.53</td>\n",
       "      <td>2.01</td>\n",
       "      <td>2023-04-11</td>\n",
       "      <td>94.11</td>\n",
       "      <td>77.35</td>\n",
       "      <td>89.81</td>\n",
       "      <td>6.21</td>\n",
       "      <td>Medium</td>\n",
       "      <td>4978.57</td>\n",
       "      <td>2023-03-30 21:41:41</td>\n",
       "      <td>1</td>\n",
       "    </tr>\n",
       "    <tr>\n",
       "      <th>6</th>\n",
       "      <td>A0007</td>\n",
       "      <td>Dianamouth</td>\n",
       "      <td>22.62</td>\n",
       "      <td>3.79</td>\n",
       "      <td>2024-02-28</td>\n",
       "      <td>88.27</td>\n",
       "      <td>67.18</td>\n",
       "      <td>78.62</td>\n",
       "      <td>0.62</td>\n",
       "      <td>Low</td>\n",
       "      <td>4371.65</td>\n",
       "      <td>2024-04-28 04:45:48</td>\n",
       "      <td>0</td>\n",
       "    </tr>\n",
       "    <tr>\n",
       "      <th>7</th>\n",
       "      <td>A0008</td>\n",
       "      <td>New Dianaport</td>\n",
       "      <td>40.61</td>\n",
       "      <td>4.69</td>\n",
       "      <td>2023-01-26</td>\n",
       "      <td>70.51</td>\n",
       "      <td>62.85</td>\n",
       "      <td>95.43</td>\n",
       "      <td>3.04</td>\n",
       "      <td>High</td>\n",
       "      <td>4337.55</td>\n",
       "      <td>2023-01-23 05:43:53</td>\n",
       "      <td>0</td>\n",
       "    </tr>\n",
       "    <tr>\n",
       "      <th>8</th>\n",
       "      <td>A0009</td>\n",
       "      <td>Brianside</td>\n",
       "      <td>25.23</td>\n",
       "      <td>1.07</td>\n",
       "      <td>2024-06-05</td>\n",
       "      <td>57.14</td>\n",
       "      <td>91.77</td>\n",
       "      <td>97.90</td>\n",
       "      <td>0.77</td>\n",
       "      <td>High</td>\n",
       "      <td>4412.76</td>\n",
       "      <td>2023-11-07 19:38:15</td>\n",
       "      <td>2</td>\n",
       "    </tr>\n",
       "    <tr>\n",
       "      <th>9</th>\n",
       "      <td>A0010</td>\n",
       "      <td>Esteston</td>\n",
       "      <td>48.02</td>\n",
       "      <td>3.80</td>\n",
       "      <td>2023-10-14</td>\n",
       "      <td>59.75</td>\n",
       "      <td>70.13</td>\n",
       "      <td>79.88</td>\n",
       "      <td>6.85</td>\n",
       "      <td>Low</td>\n",
       "      <td>4316.42</td>\n",
       "      <td>2023-05-21 14:04:21</td>\n",
       "      <td>0</td>\n",
       "    </tr>\n",
       "  </tbody>\n",
       "</table>\n",
       "</div>"
      ],
      "text/plain": [
       "  Asset_ID           Location  Temperature  Vibration Last_Maintenance  \\\n",
       "0    A0001     Lake Davidland        32.34       3.99       2023-09-28   \n",
       "1    A0002        West Andrew        25.99       0.80       2023-04-26   \n",
       "2    A0003  New Kimberlyhaven        31.45       4.75       2024-12-23   \n",
       "3    A0004     Lake Cathyside        26.55       4.37       2024-10-22   \n",
       "4    A0005       South Justin        41.66       1.43       2024-08-17   \n",
       "5    A0006         Ellisonton        45.53       2.01       2023-04-11   \n",
       "6    A0007         Dianamouth        22.62       3.79       2024-02-28   \n",
       "7    A0008      New Dianaport        40.61       4.69       2023-01-26   \n",
       "8    A0009          Brianside        25.23       1.07       2024-06-05   \n",
       "9    A0010           Esteston        48.02       3.80       2023-10-14   \n",
       "\n",
       "   Condition_Score  Resource_Utilization  Delivery_Efficiency  Downtime_Hours  \\\n",
       "0            67.39                 87.04                79.99            3.22   \n",
       "1            76.44                 81.06                92.07            2.89   \n",
       "2            61.85                 79.64                88.15            1.65   \n",
       "3            63.60                 79.88                72.63            8.07   \n",
       "4            61.62                 65.99                74.93            1.83   \n",
       "5            94.11                 77.35                89.81            6.21   \n",
       "6            88.27                 67.18                78.62            0.62   \n",
       "7            70.51                 62.85                95.43            3.04   \n",
       "8            57.14                 91.77                97.90            0.77   \n",
       "9            59.75                 70.13                79.88            6.85   \n",
       "\n",
       "  Inventory_Level  Logistics_Cost            Timestamp  \\\n",
       "0          Medium         5148.45  2024-09-13 19:31:26   \n",
       "1             Low         4454.82  2023-09-17 22:20:17   \n",
       "2            High         3977.16  2024-09-08 19:32:27   \n",
       "3             Low         3248.65  2023-10-28 06:48:55   \n",
       "4            High         3121.08  2023-10-06 05:02:02   \n",
       "5          Medium         4978.57  2023-03-30 21:41:41   \n",
       "6             Low         4371.65  2024-04-28 04:45:48   \n",
       "7            High         4337.55  2023-01-23 05:43:53   \n",
       "8            High         4412.76  2023-11-07 19:38:15   \n",
       "9             Low         4316.42  2023-05-21 14:04:21   \n",
       "\n",
       "   SupplyChain_Efficiency_Label  \n",
       "0                             0  \n",
       "1                             1  \n",
       "2                             1  \n",
       "3                             0  \n",
       "4                             0  \n",
       "5                             1  \n",
       "6                             0  \n",
       "7                             0  \n",
       "8                             2  \n",
       "9                             0  "
      ]
     },
     "execution_count": 2,
     "metadata": {},
     "output_type": "execute_result"
    }
   ],
   "source": [
    "data = pd.read_csv('Supply_data.csv')  # Example data loading\n",
    "data.head(10)"
   ]
  },
  {
   "cell_type": "code",
   "execution_count": 3,
   "id": "b6357a89",
   "metadata": {},
   "outputs": [
    {
     "data": {
      "text/plain": [
       "(500, 13)"
      ]
     },
     "execution_count": 3,
     "metadata": {},
     "output_type": "execute_result"
    }
   ],
   "source": [
    "data.shape"
   ]
  },
  {
   "cell_type": "code",
   "execution_count": 4,
   "id": "83213c93",
   "metadata": {},
   "outputs": [
    {
     "data": {
      "text/html": [
       "<div>\n",
       "<style scoped>\n",
       "    .dataframe tbody tr th:only-of-type {\n",
       "        vertical-align: middle;\n",
       "    }\n",
       "\n",
       "    .dataframe tbody tr th {\n",
       "        vertical-align: top;\n",
       "    }\n",
       "\n",
       "    .dataframe thead th {\n",
       "        text-align: right;\n",
       "    }\n",
       "</style>\n",
       "<table border=\"1\" class=\"dataframe\">\n",
       "  <thead>\n",
       "    <tr style=\"text-align: right;\">\n",
       "      <th></th>\n",
       "      <th>Asset_ID</th>\n",
       "      <th>Location</th>\n",
       "      <th>Temperature</th>\n",
       "      <th>Vibration</th>\n",
       "      <th>Last_Maintenance</th>\n",
       "      <th>Condition_Score</th>\n",
       "      <th>Resource_Utilization</th>\n",
       "      <th>Delivery_Efficiency</th>\n",
       "      <th>Downtime_Hours</th>\n",
       "      <th>Logistics_Cost</th>\n",
       "      <th>Timestamp</th>\n",
       "      <th>SupplyChain_Efficiency_Label</th>\n",
       "      <th>Level_High</th>\n",
       "      <th>Level_Low</th>\n",
       "      <th>Level_Medium</th>\n",
       "    </tr>\n",
       "  </thead>\n",
       "  <tbody>\n",
       "    <tr>\n",
       "      <th>0</th>\n",
       "      <td>A0001</td>\n",
       "      <td>Lake Davidland</td>\n",
       "      <td>32.34</td>\n",
       "      <td>3.99</td>\n",
       "      <td>2023-09-28</td>\n",
       "      <td>67.39</td>\n",
       "      <td>87.04</td>\n",
       "      <td>79.99</td>\n",
       "      <td>3.22</td>\n",
       "      <td>5148.45</td>\n",
       "      <td>2024-09-13 19:31:26</td>\n",
       "      <td>0</td>\n",
       "      <td>False</td>\n",
       "      <td>False</td>\n",
       "      <td>True</td>\n",
       "    </tr>\n",
       "    <tr>\n",
       "      <th>1</th>\n",
       "      <td>A0002</td>\n",
       "      <td>West Andrew</td>\n",
       "      <td>25.99</td>\n",
       "      <td>0.80</td>\n",
       "      <td>2023-04-26</td>\n",
       "      <td>76.44</td>\n",
       "      <td>81.06</td>\n",
       "      <td>92.07</td>\n",
       "      <td>2.89</td>\n",
       "      <td>4454.82</td>\n",
       "      <td>2023-09-17 22:20:17</td>\n",
       "      <td>1</td>\n",
       "      <td>False</td>\n",
       "      <td>True</td>\n",
       "      <td>False</td>\n",
       "    </tr>\n",
       "    <tr>\n",
       "      <th>2</th>\n",
       "      <td>A0003</td>\n",
       "      <td>New Kimberlyhaven</td>\n",
       "      <td>31.45</td>\n",
       "      <td>4.75</td>\n",
       "      <td>2024-12-23</td>\n",
       "      <td>61.85</td>\n",
       "      <td>79.64</td>\n",
       "      <td>88.15</td>\n",
       "      <td>1.65</td>\n",
       "      <td>3977.16</td>\n",
       "      <td>2024-09-08 19:32:27</td>\n",
       "      <td>1</td>\n",
       "      <td>True</td>\n",
       "      <td>False</td>\n",
       "      <td>False</td>\n",
       "    </tr>\n",
       "    <tr>\n",
       "      <th>3</th>\n",
       "      <td>A0004</td>\n",
       "      <td>Lake Cathyside</td>\n",
       "      <td>26.55</td>\n",
       "      <td>4.37</td>\n",
       "      <td>2024-10-22</td>\n",
       "      <td>63.60</td>\n",
       "      <td>79.88</td>\n",
       "      <td>72.63</td>\n",
       "      <td>8.07</td>\n",
       "      <td>3248.65</td>\n",
       "      <td>2023-10-28 06:48:55</td>\n",
       "      <td>0</td>\n",
       "      <td>False</td>\n",
       "      <td>True</td>\n",
       "      <td>False</td>\n",
       "    </tr>\n",
       "    <tr>\n",
       "      <th>4</th>\n",
       "      <td>A0005</td>\n",
       "      <td>South Justin</td>\n",
       "      <td>41.66</td>\n",
       "      <td>1.43</td>\n",
       "      <td>2024-08-17</td>\n",
       "      <td>61.62</td>\n",
       "      <td>65.99</td>\n",
       "      <td>74.93</td>\n",
       "      <td>1.83</td>\n",
       "      <td>3121.08</td>\n",
       "      <td>2023-10-06 05:02:02</td>\n",
       "      <td>0</td>\n",
       "      <td>True</td>\n",
       "      <td>False</td>\n",
       "      <td>False</td>\n",
       "    </tr>\n",
       "    <tr>\n",
       "      <th>5</th>\n",
       "      <td>A0006</td>\n",
       "      <td>Ellisonton</td>\n",
       "      <td>45.53</td>\n",
       "      <td>2.01</td>\n",
       "      <td>2023-04-11</td>\n",
       "      <td>94.11</td>\n",
       "      <td>77.35</td>\n",
       "      <td>89.81</td>\n",
       "      <td>6.21</td>\n",
       "      <td>4978.57</td>\n",
       "      <td>2023-03-30 21:41:41</td>\n",
       "      <td>1</td>\n",
       "      <td>False</td>\n",
       "      <td>False</td>\n",
       "      <td>True</td>\n",
       "    </tr>\n",
       "    <tr>\n",
       "      <th>6</th>\n",
       "      <td>A0007</td>\n",
       "      <td>Dianamouth</td>\n",
       "      <td>22.62</td>\n",
       "      <td>3.79</td>\n",
       "      <td>2024-02-28</td>\n",
       "      <td>88.27</td>\n",
       "      <td>67.18</td>\n",
       "      <td>78.62</td>\n",
       "      <td>0.62</td>\n",
       "      <td>4371.65</td>\n",
       "      <td>2024-04-28 04:45:48</td>\n",
       "      <td>0</td>\n",
       "      <td>False</td>\n",
       "      <td>True</td>\n",
       "      <td>False</td>\n",
       "    </tr>\n",
       "    <tr>\n",
       "      <th>7</th>\n",
       "      <td>A0008</td>\n",
       "      <td>New Dianaport</td>\n",
       "      <td>40.61</td>\n",
       "      <td>4.69</td>\n",
       "      <td>2023-01-26</td>\n",
       "      <td>70.51</td>\n",
       "      <td>62.85</td>\n",
       "      <td>95.43</td>\n",
       "      <td>3.04</td>\n",
       "      <td>4337.55</td>\n",
       "      <td>2023-01-23 05:43:53</td>\n",
       "      <td>0</td>\n",
       "      <td>True</td>\n",
       "      <td>False</td>\n",
       "      <td>False</td>\n",
       "    </tr>\n",
       "    <tr>\n",
       "      <th>8</th>\n",
       "      <td>A0009</td>\n",
       "      <td>Brianside</td>\n",
       "      <td>25.23</td>\n",
       "      <td>1.07</td>\n",
       "      <td>2024-06-05</td>\n",
       "      <td>57.14</td>\n",
       "      <td>91.77</td>\n",
       "      <td>97.90</td>\n",
       "      <td>0.77</td>\n",
       "      <td>4412.76</td>\n",
       "      <td>2023-11-07 19:38:15</td>\n",
       "      <td>2</td>\n",
       "      <td>True</td>\n",
       "      <td>False</td>\n",
       "      <td>False</td>\n",
       "    </tr>\n",
       "    <tr>\n",
       "      <th>9</th>\n",
       "      <td>A0010</td>\n",
       "      <td>Esteston</td>\n",
       "      <td>48.02</td>\n",
       "      <td>3.80</td>\n",
       "      <td>2023-10-14</td>\n",
       "      <td>59.75</td>\n",
       "      <td>70.13</td>\n",
       "      <td>79.88</td>\n",
       "      <td>6.85</td>\n",
       "      <td>4316.42</td>\n",
       "      <td>2023-05-21 14:04:21</td>\n",
       "      <td>0</td>\n",
       "      <td>False</td>\n",
       "      <td>True</td>\n",
       "      <td>False</td>\n",
       "    </tr>\n",
       "  </tbody>\n",
       "</table>\n",
       "</div>"
      ],
      "text/plain": [
       "  Asset_ID           Location  Temperature  Vibration Last_Maintenance  \\\n",
       "0    A0001     Lake Davidland        32.34       3.99       2023-09-28   \n",
       "1    A0002        West Andrew        25.99       0.80       2023-04-26   \n",
       "2    A0003  New Kimberlyhaven        31.45       4.75       2024-12-23   \n",
       "3    A0004     Lake Cathyside        26.55       4.37       2024-10-22   \n",
       "4    A0005       South Justin        41.66       1.43       2024-08-17   \n",
       "5    A0006         Ellisonton        45.53       2.01       2023-04-11   \n",
       "6    A0007         Dianamouth        22.62       3.79       2024-02-28   \n",
       "7    A0008      New Dianaport        40.61       4.69       2023-01-26   \n",
       "8    A0009          Brianside        25.23       1.07       2024-06-05   \n",
       "9    A0010           Esteston        48.02       3.80       2023-10-14   \n",
       "\n",
       "   Condition_Score  Resource_Utilization  Delivery_Efficiency  Downtime_Hours  \\\n",
       "0            67.39                 87.04                79.99            3.22   \n",
       "1            76.44                 81.06                92.07            2.89   \n",
       "2            61.85                 79.64                88.15            1.65   \n",
       "3            63.60                 79.88                72.63            8.07   \n",
       "4            61.62                 65.99                74.93            1.83   \n",
       "5            94.11                 77.35                89.81            6.21   \n",
       "6            88.27                 67.18                78.62            0.62   \n",
       "7            70.51                 62.85                95.43            3.04   \n",
       "8            57.14                 91.77                97.90            0.77   \n",
       "9            59.75                 70.13                79.88            6.85   \n",
       "\n",
       "   Logistics_Cost            Timestamp  SupplyChain_Efficiency_Label  \\\n",
       "0         5148.45  2024-09-13 19:31:26                             0   \n",
       "1         4454.82  2023-09-17 22:20:17                             1   \n",
       "2         3977.16  2024-09-08 19:32:27                             1   \n",
       "3         3248.65  2023-10-28 06:48:55                             0   \n",
       "4         3121.08  2023-10-06 05:02:02                             0   \n",
       "5         4978.57  2023-03-30 21:41:41                             1   \n",
       "6         4371.65  2024-04-28 04:45:48                             0   \n",
       "7         4337.55  2023-01-23 05:43:53                             0   \n",
       "8         4412.76  2023-11-07 19:38:15                             2   \n",
       "9         4316.42  2023-05-21 14:04:21                             0   \n",
       "\n",
       "   Level_High  Level_Low  Level_Medium  \n",
       "0       False      False          True  \n",
       "1       False       True         False  \n",
       "2        True      False         False  \n",
       "3       False       True         False  \n",
       "4        True      False         False  \n",
       "5       False      False          True  \n",
       "6       False       True         False  \n",
       "7        True      False         False  \n",
       "8        True      False         False  \n",
       "9       False       True         False  "
      ]
     },
     "execution_count": 4,
     "metadata": {},
     "output_type": "execute_result"
    }
   ],
   "source": [
    "# Using pandas get_dummies\n",
    "df_encoded = pd.get_dummies(data, columns=['Inventory_Level'], prefix='Level')\n",
    "\n",
    "df_encoded.head(10)"
   ]
  },
  {
   "cell_type": "code",
   "execution_count": 5,
   "id": "9daea458",
   "metadata": {},
   "outputs": [
    {
     "data": {
      "text/plain": [
       "(500, 15)"
      ]
     },
     "execution_count": 5,
     "metadata": {},
     "output_type": "execute_result"
    }
   ],
   "source": [
    "df_encoded.shape"
   ]
  },
  {
   "cell_type": "code",
   "execution_count": 6,
   "id": "52588a19",
   "metadata": {},
   "outputs": [],
   "source": [
    "final_data = df_encoded.drop(columns=['Asset_ID', 'Location', 'Last_Maintenance', 'Timestamp'])"
   ]
  },
  {
   "cell_type": "code",
   "execution_count": 7,
   "id": "a7bfa195",
   "metadata": {},
   "outputs": [
    {
     "name": "stdout",
     "output_type": "stream",
     "text": [
      "<class 'pandas.core.frame.DataFrame'>\n",
      "RangeIndex: 500 entries, 0 to 499\n",
      "Data columns (total 11 columns):\n",
      " #   Column                        Non-Null Count  Dtype  \n",
      "---  ------                        --------------  -----  \n",
      " 0   Temperature                   500 non-null    float64\n",
      " 1   Vibration                     500 non-null    float64\n",
      " 2   Condition_Score               500 non-null    float64\n",
      " 3   Resource_Utilization          500 non-null    float64\n",
      " 4   Delivery_Efficiency           500 non-null    float64\n",
      " 5   Downtime_Hours                500 non-null    float64\n",
      " 6   Logistics_Cost                500 non-null    float64\n",
      " 7   SupplyChain_Efficiency_Label  500 non-null    int64  \n",
      " 8   Level_High                    500 non-null    bool   \n",
      " 9   Level_Low                     500 non-null    bool   \n",
      " 10  Level_Medium                  500 non-null    bool   \n",
      "dtypes: bool(3), float64(7), int64(1)\n",
      "memory usage: 32.8 KB\n"
     ]
    }
   ],
   "source": [
    "final_data.info()"
   ]
  },
  {
   "cell_type": "code",
   "execution_count": 8,
   "id": "a75603ac",
   "metadata": {},
   "outputs": [],
   "source": [
    "# Assuming df is your DataFrame\n",
    "X = final_data.drop('SupplyChain_Efficiency_Label', axis=1)\n",
    "y = final_data['SupplyChain_Efficiency_Label']"
   ]
  },
  {
   "cell_type": "code",
   "execution_count": 9,
   "id": "7dd2a641",
   "metadata": {},
   "outputs": [],
   "source": [
    "from tensorflow.keras.utils import to_categorical\n",
    "# Convert labels to one-hot encoded format\n",
    "y_cat = to_categorical(y, num_classes=3)  # Assumes classes are 0, 1, 2\n",
    "# y_cat"
   ]
  },
  {
   "cell_type": "code",
   "execution_count": 10,
   "id": "79852b20",
   "metadata": {},
   "outputs": [],
   "source": [
    "from sklearn.model_selection import train_test_split\n",
    "\n",
    "X_train, X_test, y_train, y_test = train_test_split(X, y_cat, test_size=0.2, random_state=42)"
   ]
  },
  {
   "cell_type": "code",
   "execution_count": 11,
   "id": "dc9dc81e",
   "metadata": {},
   "outputs": [],
   "source": [
    "from sklearn.preprocessing import StandardScaler\n",
    "\n",
    "scaler = StandardScaler()\n",
    "X_train_scaled = scaler.fit_transform(X_train)\n",
    "X_test_scaled = scaler.transform(X_test)"
   ]
  },
  {
   "cell_type": "code",
   "execution_count": 12,
   "id": "ff1a4bb4",
   "metadata": {},
   "outputs": [
    {
     "name": "stderr",
     "output_type": "stream",
     "text": [
      "c:\\Users\\ASUS\\AppData\\Local\\Programs\\Python\\Python312\\Lib\\site-packages\\keras\\src\\layers\\core\\dense.py:87: UserWarning: Do not pass an `input_shape`/`input_dim` argument to a layer. When using Sequential models, prefer using an `Input(shape)` object as the first layer in the model instead.\n",
      "  super().__init__(activity_regularizer=activity_regularizer, **kwargs)\n"
     ]
    },
    {
     "data": {
      "text/html": [
       "<pre style=\"white-space:pre;overflow-x:auto;line-height:normal;font-family:Menlo,'DejaVu Sans Mono',consolas,'Courier New',monospace\"><span style=\"font-weight: bold\">Model: \"sequential\"</span>\n",
       "</pre>\n"
      ],
      "text/plain": [
       "\u001b[1mModel: \"sequential\"\u001b[0m\n"
      ]
     },
     "metadata": {},
     "output_type": "display_data"
    },
    {
     "data": {
      "text/html": [
       "<pre style=\"white-space:pre;overflow-x:auto;line-height:normal;font-family:Menlo,'DejaVu Sans Mono',consolas,'Courier New',monospace\">┏━━━━━━━━━━━━━━━━━━━━━━━━━━━━━━━━━┳━━━━━━━━━━━━━━━━━━━━━━━━┳━━━━━━━━━━━━━━━┓\n",
       "┃<span style=\"font-weight: bold\"> Layer (type)                    </span>┃<span style=\"font-weight: bold\"> Output Shape           </span>┃<span style=\"font-weight: bold\">       Param # </span>┃\n",
       "┡━━━━━━━━━━━━━━━━━━━━━━━━━━━━━━━━━╇━━━━━━━━━━━━━━━━━━━━━━━━╇━━━━━━━━━━━━━━━┩\n",
       "│ dense (<span style=\"color: #0087ff; text-decoration-color: #0087ff\">Dense</span>)                   │ (<span style=\"color: #00d7ff; text-decoration-color: #00d7ff\">None</span>, <span style=\"color: #00af00; text-decoration-color: #00af00\">64</span>)             │           <span style=\"color: #00af00; text-decoration-color: #00af00\">704</span> │\n",
       "├─────────────────────────────────┼────────────────────────┼───────────────┤\n",
       "│ dense_1 (<span style=\"color: #0087ff; text-decoration-color: #0087ff\">Dense</span>)                 │ (<span style=\"color: #00d7ff; text-decoration-color: #00d7ff\">None</span>, <span style=\"color: #00af00; text-decoration-color: #00af00\">64</span>)             │         <span style=\"color: #00af00; text-decoration-color: #00af00\">4,160</span> │\n",
       "├─────────────────────────────────┼────────────────────────┼───────────────┤\n",
       "│ dense_2 (<span style=\"color: #0087ff; text-decoration-color: #0087ff\">Dense</span>)                 │ (<span style=\"color: #00d7ff; text-decoration-color: #00d7ff\">None</span>, <span style=\"color: #00af00; text-decoration-color: #00af00\">3</span>)              │           <span style=\"color: #00af00; text-decoration-color: #00af00\">195</span> │\n",
       "└─────────────────────────────────┴────────────────────────┴───────────────┘\n",
       "</pre>\n"
      ],
      "text/plain": [
       "┏━━━━━━━━━━━━━━━━━━━━━━━━━━━━━━━━━┳━━━━━━━━━━━━━━━━━━━━━━━━┳━━━━━━━━━━━━━━━┓\n",
       "┃\u001b[1m \u001b[0m\u001b[1mLayer (type)                   \u001b[0m\u001b[1m \u001b[0m┃\u001b[1m \u001b[0m\u001b[1mOutput Shape          \u001b[0m\u001b[1m \u001b[0m┃\u001b[1m \u001b[0m\u001b[1m      Param #\u001b[0m\u001b[1m \u001b[0m┃\n",
       "┡━━━━━━━━━━━━━━━━━━━━━━━━━━━━━━━━━╇━━━━━━━━━━━━━━━━━━━━━━━━╇━━━━━━━━━━━━━━━┩\n",
       "│ dense (\u001b[38;5;33mDense\u001b[0m)                   │ (\u001b[38;5;45mNone\u001b[0m, \u001b[38;5;34m64\u001b[0m)             │           \u001b[38;5;34m704\u001b[0m │\n",
       "├─────────────────────────────────┼────────────────────────┼───────────────┤\n",
       "│ dense_1 (\u001b[38;5;33mDense\u001b[0m)                 │ (\u001b[38;5;45mNone\u001b[0m, \u001b[38;5;34m64\u001b[0m)             │         \u001b[38;5;34m4,160\u001b[0m │\n",
       "├─────────────────────────────────┼────────────────────────┼───────────────┤\n",
       "│ dense_2 (\u001b[38;5;33mDense\u001b[0m)                 │ (\u001b[38;5;45mNone\u001b[0m, \u001b[38;5;34m3\u001b[0m)              │           \u001b[38;5;34m195\u001b[0m │\n",
       "└─────────────────────────────────┴────────────────────────┴───────────────┘\n"
      ]
     },
     "metadata": {},
     "output_type": "display_data"
    },
    {
     "data": {
      "text/html": [
       "<pre style=\"white-space:pre;overflow-x:auto;line-height:normal;font-family:Menlo,'DejaVu Sans Mono',consolas,'Courier New',monospace\"><span style=\"font-weight: bold\"> Total params: </span><span style=\"color: #00af00; text-decoration-color: #00af00\">5,059</span> (19.76 KB)\n",
       "</pre>\n"
      ],
      "text/plain": [
       "\u001b[1m Total params: \u001b[0m\u001b[38;5;34m5,059\u001b[0m (19.76 KB)\n"
      ]
     },
     "metadata": {},
     "output_type": "display_data"
    },
    {
     "data": {
      "text/html": [
       "<pre style=\"white-space:pre;overflow-x:auto;line-height:normal;font-family:Menlo,'DejaVu Sans Mono',consolas,'Courier New',monospace\"><span style=\"font-weight: bold\"> Trainable params: </span><span style=\"color: #00af00; text-decoration-color: #00af00\">5,059</span> (19.76 KB)\n",
       "</pre>\n"
      ],
      "text/plain": [
       "\u001b[1m Trainable params: \u001b[0m\u001b[38;5;34m5,059\u001b[0m (19.76 KB)\n"
      ]
     },
     "metadata": {},
     "output_type": "display_data"
    },
    {
     "data": {
      "text/html": [
       "<pre style=\"white-space:pre;overflow-x:auto;line-height:normal;font-family:Menlo,'DejaVu Sans Mono',consolas,'Courier New',monospace\"><span style=\"font-weight: bold\"> Non-trainable params: </span><span style=\"color: #00af00; text-decoration-color: #00af00\">0</span> (0.00 B)\n",
       "</pre>\n"
      ],
      "text/plain": [
       "\u001b[1m Non-trainable params: \u001b[0m\u001b[38;5;34m0\u001b[0m (0.00 B)\n"
      ]
     },
     "metadata": {},
     "output_type": "display_data"
    }
   ],
   "source": [
    "from tensorflow.keras.models import Sequential\n",
    "from tensorflow.keras.layers import Dense\n",
    "\n",
    "model = Sequential([\n",
    "    Dense(64, activation='relu', input_shape=(X_train_scaled.shape[1],)),\n",
    "    Dense(64, activation='relu'),\n",
    "    Dense(3, activation='softmax')  # Softmax for multi-class classification\n",
    "])\n",
    "\n",
    "model.compile(optimizer='adam',\n",
    "              loss='categorical_crossentropy',\n",
    "              metrics=['accuracy'])\n",
    "\n",
    "model.summary()"
   ]
  },
  {
   "cell_type": "code",
   "execution_count": 13,
   "id": "95e6a1b8",
   "metadata": {},
   "outputs": [
    {
     "name": "stdout",
     "output_type": "stream",
     "text": [
      "Epoch 1/50\n",
      "\u001b[1m23/23\u001b[0m \u001b[32m━━━━━━━━━━━━━━━━━━━━\u001b[0m\u001b[37m\u001b[0m \u001b[1m1s\u001b[0m 13ms/step - accuracy: 0.5345 - loss: 0.9011 - val_accuracy: 0.6500 - val_loss: 0.6969\n",
      "Epoch 2/50\n",
      "\u001b[1m23/23\u001b[0m \u001b[32m━━━━━━━━━━━━━━━━━━━━\u001b[0m\u001b[37m\u001b[0m \u001b[1m0s\u001b[0m 4ms/step - accuracy: 0.8331 - loss: 0.6082 - val_accuracy: 0.6750 - val_loss: 0.5895\n",
      "Epoch 3/50\n",
      "\u001b[1m23/23\u001b[0m \u001b[32m━━━━━━━━━━━━━━━━━━━━\u001b[0m\u001b[37m\u001b[0m \u001b[1m0s\u001b[0m 4ms/step - accuracy: 0.8538 - loss: 0.4586 - val_accuracy: 0.6500 - val_loss: 0.5363\n",
      "Epoch 4/50\n",
      "\u001b[1m23/23\u001b[0m \u001b[32m━━━━━━━━━━━━━━━━━━━━\u001b[0m\u001b[37m\u001b[0m \u001b[1m0s\u001b[0m 4ms/step - accuracy: 0.8651 - loss: 0.4093 - val_accuracy: 0.7250 - val_loss: 0.5099\n",
      "Epoch 5/50\n",
      "\u001b[1m23/23\u001b[0m \u001b[32m━━━━━━━━━━━━━━━━━━━━\u001b[0m\u001b[37m\u001b[0m \u001b[1m0s\u001b[0m 4ms/step - accuracy: 0.8710 - loss: 0.3862 - val_accuracy: 0.7000 - val_loss: 0.4670\n",
      "Epoch 6/50\n",
      "\u001b[1m23/23\u001b[0m \u001b[32m━━━━━━━━━━━━━━━━━━━━\u001b[0m\u001b[37m\u001b[0m \u001b[1m0s\u001b[0m 4ms/step - accuracy: 0.8936 - loss: 0.3104 - val_accuracy: 0.7500 - val_loss: 0.4429\n",
      "Epoch 7/50\n",
      "\u001b[1m23/23\u001b[0m \u001b[32m━━━━━━━━━━━━━━━━━━━━\u001b[0m\u001b[37m\u001b[0m \u001b[1m0s\u001b[0m 4ms/step - accuracy: 0.8716 - loss: 0.3537 - val_accuracy: 0.7500 - val_loss: 0.4276\n",
      "Epoch 8/50\n",
      "\u001b[1m23/23\u001b[0m \u001b[32m━━━━━━━━━━━━━━━━━━━━\u001b[0m\u001b[37m\u001b[0m \u001b[1m0s\u001b[0m 4ms/step - accuracy: 0.9105 - loss: 0.2622 - val_accuracy: 0.7500 - val_loss: 0.3908\n",
      "Epoch 9/50\n",
      "\u001b[1m23/23\u001b[0m \u001b[32m━━━━━━━━━━━━━━━━━━━━\u001b[0m\u001b[37m\u001b[0m \u001b[1m0s\u001b[0m 4ms/step - accuracy: 0.9361 - loss: 0.2239 - val_accuracy: 0.8000 - val_loss: 0.3535\n",
      "Epoch 10/50\n",
      "\u001b[1m23/23\u001b[0m \u001b[32m━━━━━━━━━━━━━━━━━━━━\u001b[0m\u001b[37m\u001b[0m \u001b[1m0s\u001b[0m 3ms/step - accuracy: 0.9266 - loss: 0.2182 - val_accuracy: 0.8000 - val_loss: 0.3361\n",
      "Epoch 11/50\n",
      "\u001b[1m23/23\u001b[0m \u001b[32m━━━━━━━━━━━━━━━━━━━━\u001b[0m\u001b[37m\u001b[0m \u001b[1m0s\u001b[0m 4ms/step - accuracy: 0.9238 - loss: 0.1993 - val_accuracy: 0.8500 - val_loss: 0.3364\n",
      "Epoch 12/50\n",
      "\u001b[1m23/23\u001b[0m \u001b[32m━━━━━━━━━━━━━━━━━━━━\u001b[0m\u001b[37m\u001b[0m \u001b[1m0s\u001b[0m 5ms/step - accuracy: 0.9428 - loss: 0.1782 - val_accuracy: 0.8250 - val_loss: 0.2793\n",
      "Epoch 13/50\n",
      "\u001b[1m23/23\u001b[0m \u001b[32m━━━━━━━━━━━━━━━━━━━━\u001b[0m\u001b[37m\u001b[0m \u001b[1m0s\u001b[0m 4ms/step - accuracy: 0.9323 - loss: 0.1616 - val_accuracy: 0.8500 - val_loss: 0.2671\n",
      "Epoch 14/50\n",
      "\u001b[1m23/23\u001b[0m \u001b[32m━━━━━━━━━━━━━━━━━━━━\u001b[0m\u001b[37m\u001b[0m \u001b[1m0s\u001b[0m 3ms/step - accuracy: 0.9652 - loss: 0.1244 - val_accuracy: 0.8500 - val_loss: 0.2400\n",
      "Epoch 15/50\n",
      "\u001b[1m23/23\u001b[0m \u001b[32m━━━━━━━━━━━━━━━━━━━━\u001b[0m\u001b[37m\u001b[0m \u001b[1m0s\u001b[0m 4ms/step - accuracy: 0.9605 - loss: 0.1257 - val_accuracy: 0.8500 - val_loss: 0.2440\n",
      "Epoch 16/50\n",
      "\u001b[1m23/23\u001b[0m \u001b[32m━━━━━━━━━━━━━━━━━━━━\u001b[0m\u001b[37m\u001b[0m \u001b[1m0s\u001b[0m 4ms/step - accuracy: 0.9767 - loss: 0.1084 - val_accuracy: 0.8750 - val_loss: 0.1806\n",
      "Epoch 17/50\n",
      "\u001b[1m23/23\u001b[0m \u001b[32m━━━━━━━━━━━━━━━━━━━━\u001b[0m\u001b[37m\u001b[0m \u001b[1m0s\u001b[0m 6ms/step - accuracy: 0.9912 - loss: 0.1091 - val_accuracy: 0.8250 - val_loss: 0.2182\n",
      "Epoch 18/50\n",
      "\u001b[1m23/23\u001b[0m \u001b[32m━━━━━━━━━━━━━━━━━━━━\u001b[0m\u001b[37m\u001b[0m \u001b[1m0s\u001b[0m 4ms/step - accuracy: 0.9891 - loss: 0.0881 - val_accuracy: 0.8750 - val_loss: 0.1867\n",
      "Epoch 19/50\n",
      "\u001b[1m23/23\u001b[0m \u001b[32m━━━━━━━━━━━━━━━━━━━━\u001b[0m\u001b[37m\u001b[0m \u001b[1m0s\u001b[0m 4ms/step - accuracy: 0.9847 - loss: 0.0885 - val_accuracy: 0.9000 - val_loss: 0.1815\n",
      "Epoch 20/50\n",
      "\u001b[1m23/23\u001b[0m \u001b[32m━━━━━━━━━━━━━━━━━━━━\u001b[0m\u001b[37m\u001b[0m \u001b[1m0s\u001b[0m 4ms/step - accuracy: 0.9941 - loss: 0.0661 - val_accuracy: 0.9000 - val_loss: 0.1593\n",
      "Epoch 21/50\n",
      "\u001b[1m23/23\u001b[0m \u001b[32m━━━━━━━━━━━━━━━━━━━━\u001b[0m\u001b[37m\u001b[0m \u001b[1m0s\u001b[0m 4ms/step - accuracy: 0.9927 - loss: 0.0697 - val_accuracy: 0.9000 - val_loss: 0.1694\n",
      "Epoch 22/50\n",
      "\u001b[1m23/23\u001b[0m \u001b[32m━━━━━━━━━━━━━━━━━━━━\u001b[0m\u001b[37m\u001b[0m \u001b[1m0s\u001b[0m 4ms/step - accuracy: 0.9927 - loss: 0.0618 - val_accuracy: 0.9000 - val_loss: 0.1542\n",
      "Epoch 23/50\n",
      "\u001b[1m23/23\u001b[0m \u001b[32m━━━━━━━━━━━━━━━━━━━━\u001b[0m\u001b[37m\u001b[0m \u001b[1m0s\u001b[0m 4ms/step - accuracy: 0.9972 - loss: 0.0560 - val_accuracy: 0.9000 - val_loss: 0.1415\n",
      "Epoch 24/50\n",
      "\u001b[1m23/23\u001b[0m \u001b[32m━━━━━━━━━━━━━━━━━━━━\u001b[0m\u001b[37m\u001b[0m \u001b[1m0s\u001b[0m 4ms/step - accuracy: 0.9966 - loss: 0.0551 - val_accuracy: 0.9500 - val_loss: 0.1383\n",
      "Epoch 25/50\n",
      "\u001b[1m23/23\u001b[0m \u001b[32m━━━━━━━━━━━━━━━━━━━━\u001b[0m\u001b[37m\u001b[0m \u001b[1m0s\u001b[0m 4ms/step - accuracy: 0.9917 - loss: 0.0613 - val_accuracy: 0.9000 - val_loss: 0.1458\n",
      "Epoch 26/50\n",
      "\u001b[1m23/23\u001b[0m \u001b[32m━━━━━━━━━━━━━━━━━━━━\u001b[0m\u001b[37m\u001b[0m \u001b[1m0s\u001b[0m 4ms/step - accuracy: 0.9994 - loss: 0.0446 - val_accuracy: 0.9500 - val_loss: 0.1373\n",
      "Epoch 27/50\n",
      "\u001b[1m23/23\u001b[0m \u001b[32m━━━━━━━━━━━━━━━━━━━━\u001b[0m\u001b[37m\u001b[0m \u001b[1m0s\u001b[0m 4ms/step - accuracy: 0.9991 - loss: 0.0457 - val_accuracy: 0.9250 - val_loss: 0.1332\n",
      "Epoch 28/50\n",
      "\u001b[1m23/23\u001b[0m \u001b[32m━━━━━━━━━━━━━━━━━━━━\u001b[0m\u001b[37m\u001b[0m \u001b[1m0s\u001b[0m 4ms/step - accuracy: 1.0000 - loss: 0.0433 - val_accuracy: 0.9500 - val_loss: 0.1388\n",
      "Epoch 29/50\n",
      "\u001b[1m23/23\u001b[0m \u001b[32m━━━━━━━━━━━━━━━━━━━━\u001b[0m\u001b[37m\u001b[0m \u001b[1m0s\u001b[0m 4ms/step - accuracy: 1.0000 - loss: 0.0400 - val_accuracy: 0.9250 - val_loss: 0.1439\n",
      "Epoch 30/50\n",
      "\u001b[1m23/23\u001b[0m \u001b[32m━━━━━━━━━━━━━━━━━━━━\u001b[0m\u001b[37m\u001b[0m \u001b[1m0s\u001b[0m 4ms/step - accuracy: 0.9949 - loss: 0.0354 - val_accuracy: 0.9500 - val_loss: 0.1218\n",
      "Epoch 31/50\n",
      "\u001b[1m23/23\u001b[0m \u001b[32m━━━━━━━━━━━━━━━━━━━━\u001b[0m\u001b[37m\u001b[0m \u001b[1m0s\u001b[0m 4ms/step - accuracy: 0.9984 - loss: 0.0331 - val_accuracy: 0.9250 - val_loss: 0.1345\n",
      "Epoch 32/50\n",
      "\u001b[1m23/23\u001b[0m \u001b[32m━━━━━━━━━━━━━━━━━━━━\u001b[0m\u001b[37m\u001b[0m \u001b[1m0s\u001b[0m 4ms/step - accuracy: 1.0000 - loss: 0.0271 - val_accuracy: 0.9500 - val_loss: 0.1117\n",
      "Epoch 33/50\n",
      "\u001b[1m23/23\u001b[0m \u001b[32m━━━━━━━━━━━━━━━━━━━━\u001b[0m\u001b[37m\u001b[0m \u001b[1m0s\u001b[0m 4ms/step - accuracy: 1.0000 - loss: 0.0299 - val_accuracy: 0.9250 - val_loss: 0.1312\n",
      "Epoch 34/50\n",
      "\u001b[1m23/23\u001b[0m \u001b[32m━━━━━━━━━━━━━━━━━━━━\u001b[0m\u001b[37m\u001b[0m \u001b[1m0s\u001b[0m 4ms/step - accuracy: 1.0000 - loss: 0.0264 - val_accuracy: 0.9250 - val_loss: 0.1246\n",
      "Epoch 35/50\n",
      "\u001b[1m23/23\u001b[0m \u001b[32m━━━━━━━━━━━━━━━━━━━━\u001b[0m\u001b[37m\u001b[0m \u001b[1m0s\u001b[0m 4ms/step - accuracy: 1.0000 - loss: 0.0213 - val_accuracy: 0.9500 - val_loss: 0.1303\n",
      "Epoch 36/50\n",
      "\u001b[1m23/23\u001b[0m \u001b[32m━━━━━━━━━━━━━━━━━━━━\u001b[0m\u001b[37m\u001b[0m \u001b[1m0s\u001b[0m 5ms/step - accuracy: 1.0000 - loss: 0.0239 - val_accuracy: 0.9250 - val_loss: 0.1384\n",
      "Epoch 37/50\n",
      "\u001b[1m23/23\u001b[0m \u001b[32m━━━━━━━━━━━━━━━━━━━━\u001b[0m\u001b[37m\u001b[0m \u001b[1m0s\u001b[0m 4ms/step - accuracy: 1.0000 - loss: 0.0259 - val_accuracy: 0.9250 - val_loss: 0.1220\n",
      "Epoch 38/50\n",
      "\u001b[1m23/23\u001b[0m \u001b[32m━━━━━━━━━━━━━━━━━━━━\u001b[0m\u001b[37m\u001b[0m \u001b[1m0s\u001b[0m 4ms/step - accuracy: 1.0000 - loss: 0.0222 - val_accuracy: 0.9250 - val_loss: 0.1342\n",
      "Epoch 39/50\n",
      "\u001b[1m23/23\u001b[0m \u001b[32m━━━━━━━━━━━━━━━━━━━━\u001b[0m\u001b[37m\u001b[0m \u001b[1m0s\u001b[0m 4ms/step - accuracy: 1.0000 - loss: 0.0193 - val_accuracy: 0.9250 - val_loss: 0.1164\n",
      "Epoch 40/50\n",
      "\u001b[1m23/23\u001b[0m \u001b[32m━━━━━━━━━━━━━━━━━━━━\u001b[0m\u001b[37m\u001b[0m \u001b[1m0s\u001b[0m 6ms/step - accuracy: 1.0000 - loss: 0.0154 - val_accuracy: 0.9500 - val_loss: 0.1046\n",
      "Epoch 41/50\n",
      "\u001b[1m23/23\u001b[0m \u001b[32m━━━━━━━━━━━━━━━━━━━━\u001b[0m\u001b[37m\u001b[0m \u001b[1m0s\u001b[0m 4ms/step - accuracy: 1.0000 - loss: 0.0179 - val_accuracy: 0.9250 - val_loss: 0.1279\n",
      "Epoch 42/50\n",
      "\u001b[1m23/23\u001b[0m \u001b[32m━━━━━━━━━━━━━━━━━━━━\u001b[0m\u001b[37m\u001b[0m \u001b[1m0s\u001b[0m 6ms/step - accuracy: 0.9998 - loss: 0.0161 - val_accuracy: 0.9250 - val_loss: 0.1245\n",
      "Epoch 43/50\n",
      "\u001b[1m23/23\u001b[0m \u001b[32m━━━━━━━━━━━━━━━━━━━━\u001b[0m\u001b[37m\u001b[0m \u001b[1m0s\u001b[0m 4ms/step - accuracy: 1.0000 - loss: 0.0169 - val_accuracy: 0.9250 - val_loss: 0.1117\n",
      "Epoch 44/50\n",
      "\u001b[1m23/23\u001b[0m \u001b[32m━━━━━━━━━━━━━━━━━━━━\u001b[0m\u001b[37m\u001b[0m \u001b[1m0s\u001b[0m 5ms/step - accuracy: 1.0000 - loss: 0.0156 - val_accuracy: 0.9250 - val_loss: 0.1224\n",
      "Epoch 45/50\n",
      "\u001b[1m23/23\u001b[0m \u001b[32m━━━━━━━━━━━━━━━━━━━━\u001b[0m\u001b[37m\u001b[0m \u001b[1m0s\u001b[0m 5ms/step - accuracy: 1.0000 - loss: 0.0141 - val_accuracy: 0.9250 - val_loss: 0.1542\n",
      "Epoch 46/50\n",
      "\u001b[1m23/23\u001b[0m \u001b[32m━━━━━━━━━━━━━━━━━━━━\u001b[0m\u001b[37m\u001b[0m \u001b[1m0s\u001b[0m 5ms/step - accuracy: 1.0000 - loss: 0.0159 - val_accuracy: 0.9250 - val_loss: 0.1247\n",
      "Epoch 47/50\n",
      "\u001b[1m23/23\u001b[0m \u001b[32m━━━━━━━━━━━━━━━━━━━━\u001b[0m\u001b[37m\u001b[0m \u001b[1m0s\u001b[0m 4ms/step - accuracy: 1.0000 - loss: 0.0139 - val_accuracy: 0.9250 - val_loss: 0.1405\n",
      "Epoch 48/50\n",
      "\u001b[1m23/23\u001b[0m \u001b[32m━━━━━━━━━━━━━━━━━━━━\u001b[0m\u001b[37m\u001b[0m \u001b[1m0s\u001b[0m 4ms/step - accuracy: 1.0000 - loss: 0.0102 - val_accuracy: 0.9250 - val_loss: 0.1204\n",
      "Epoch 49/50\n",
      "\u001b[1m23/23\u001b[0m \u001b[32m━━━━━━━━━━━━━━━━━━━━\u001b[0m\u001b[37m\u001b[0m \u001b[1m0s\u001b[0m 4ms/step - accuracy: 1.0000 - loss: 0.0117 - val_accuracy: 0.9250 - val_loss: 0.1227\n",
      "Epoch 50/50\n",
      "\u001b[1m23/23\u001b[0m \u001b[32m━━━━━━━━━━━━━━━━━━━━\u001b[0m\u001b[37m\u001b[0m \u001b[1m0s\u001b[0m 4ms/step - accuracy: 1.0000 - loss: 0.0129 - val_accuracy: 0.9250 - val_loss: 0.1282\n"
     ]
    }
   ],
   "source": [
    "history = model.fit(X_train_scaled, y_train,\n",
    "                    epochs=50,\n",
    "                    batch_size=16,\n",
    "                    validation_split=0.1,\n",
    "                    verbose=1)"
   ]
  },
  {
   "cell_type": "code",
   "execution_count": 14,
   "id": "b4ca39a1",
   "metadata": {},
   "outputs": [
    {
     "name": "stdout",
     "output_type": "stream",
     "text": [
      "Test Accuracy: 0.9100\n"
     ]
    }
   ],
   "source": [
    "test_loss, test_acc = model.evaluate(X_test_scaled, y_test, verbose=0)\n",
    "print(f\"Test Accuracy: {test_acc:.4f}\")"
   ]
  },
  {
   "cell_type": "code",
   "execution_count": 15,
   "id": "fa9bed99",
   "metadata": {},
   "outputs": [
    {
     "name": "stdout",
     "output_type": "stream",
     "text": [
      "\u001b[1m4/4\u001b[0m \u001b[32m━━━━━━━━━━━━━━━━━━━━\u001b[0m\u001b[37m\u001b[0m \u001b[1m0s\u001b[0m 16ms/step\n",
      "Classification Report:\n",
      "              precision    recall  f1-score   support\n",
      "\n",
      "           0       0.96      0.94      0.95        53\n",
      "           1       0.85      0.95      0.90        43\n",
      "           2       0.00      0.00      0.00         4\n",
      "\n",
      "    accuracy                           0.91       100\n",
      "   macro avg       0.61      0.63      0.62       100\n",
      "weighted avg       0.88      0.91      0.89       100\n",
      "\n",
      "Confusion Matrix:\n",
      "[[50  3  0]\n",
      " [ 2 41  0]\n",
      " [ 0  4  0]]\n"
     ]
    },
    {
     "name": "stderr",
     "output_type": "stream",
     "text": [
      "c:\\Users\\ASUS\\AppData\\Local\\Programs\\Python\\Python312\\Lib\\site-packages\\sklearn\\metrics\\_classification.py:1565: UndefinedMetricWarning: Precision is ill-defined and being set to 0.0 in labels with no predicted samples. Use `zero_division` parameter to control this behavior.\n",
      "  _warn_prf(average, modifier, f\"{metric.capitalize()} is\", len(result))\n",
      "c:\\Users\\ASUS\\AppData\\Local\\Programs\\Python\\Python312\\Lib\\site-packages\\sklearn\\metrics\\_classification.py:1565: UndefinedMetricWarning: Precision is ill-defined and being set to 0.0 in labels with no predicted samples. Use `zero_division` parameter to control this behavior.\n",
      "  _warn_prf(average, modifier, f\"{metric.capitalize()} is\", len(result))\n",
      "c:\\Users\\ASUS\\AppData\\Local\\Programs\\Python\\Python312\\Lib\\site-packages\\sklearn\\metrics\\_classification.py:1565: UndefinedMetricWarning: Precision is ill-defined and being set to 0.0 in labels with no predicted samples. Use `zero_division` parameter to control this behavior.\n",
      "  _warn_prf(average, modifier, f\"{metric.capitalize()} is\", len(result))\n"
     ]
    }
   ],
   "source": [
    "from sklearn.metrics import classification_report, confusion_matrix\n",
    "\n",
    "y_pred = model.predict(X_test_scaled)\n",
    "y_pred_classes = np.argmax(y_pred, axis=1)\n",
    "y_test_classes = np.argmax(y_test, axis=1)\n",
    "\n",
    "print(\"Classification Report:\")\n",
    "print(classification_report(y_test_classes, y_pred_classes))\n",
    "\n",
    "print(\"Confusion Matrix:\")\n",
    "print(confusion_matrix(y_test_classes, y_pred_classes))"
   ]
  },
  {
   "cell_type": "code",
   "execution_count": 16,
   "id": "dde04322",
   "metadata": {},
   "outputs": [
    {
     "data": {
      "image/png": "[encoded data removed]",
      "text/plain": [
       "<Figure size 600x400 with 1 Axes>"
      ]
     },
     "metadata": {},
     "output_type": "display_data"
    }
   ],
   "source": [
    "import matplotlib.pyplot as plt\n",
    "\n",
    "# After y = final_data['SupplyChain_Efficiency_Label']\n",
    "class_counts = y.value_counts().sort_index()\n",
    "plt.figure(figsize=(6,4))\n",
    "plt.pie(class_counts, labels=['Low (0)', 'Medium (1)', 'High (2)'], \n",
    "        autopct='%1.1f%%', colors=['#FF6B6B', '#4ECDC4', '#45B7D1'])\n",
    "plt.title('Class Distribution (Severe Imbalance!)')\n",
    "plt.savefig('class_dist.png', dpi=150, bbox_inches='tight')"
   ]
  },
  {
   "cell_type": "code",
   "execution_count": 17,
   "id": "b8dcfb3d",
   "metadata": {},
   "outputs": [
    {
     "data": {
      "image/png": "[encoded data removed]",
      "text/plain": [
       "<Figure size 700x500 with 2 Axes>"
      ]
     },
     "metadata": {},
     "output_type": "display_data"
    }
   ],
   "source": [
    "import seaborn as sns\n",
    "\n",
    "cm = confusion_matrix(y_test_classes, y_pred_classes)\n",
    "plt.figure(figsize=(7,5))\n",
    "sns.heatmap(cm, annot=True, fmt='d', cmap='Blues', \n",
    "            xticklabels=['Low', 'Medium', 'High'],\n",
    "            yticklabels=['Low', 'Medium', 'High'])\n",
    "plt.xlabel('Predicted'); plt.ylabel('Actual')\n",
    "plt.title('Confusion Matrix (Test Set)')\n",
    "plt.savefig('confusion_matrix.png', dpi=150)"
   ]
  },
  {
   "cell_type": "code",
   "execution_count": 18,
   "id": "e808e501",
   "metadata": {},
   "outputs": [
    {
     "data": {
      "image/png": "[encoded data removed]",
      "text/plain": [
       "<Figure size 1200x400 with 2 Axes>"
      ]
     },
     "metadata": {},
     "output_type": "display_data"
    }
   ],
   "source": [
    "# After model.fit()\n",
    "plt.figure(figsize=(12,4))\n",
    "plt.subplot(1,2,1)\n",
    "plt.plot(history.history['loss'], label='Train Loss')\n",
    "plt.plot(history.history['val_loss'], label='Val Loss')\n",
    "plt.legend(); plt.title('Loss Curves')\n",
    "\n",
    "plt.subplot(1,2,2)\n",
    "plt.plot(history.history['accuracy'], label='Train Acc')\n",
    "plt.plot(history.history['val_accuracy'], label='Val Acc')\n",
    "plt.legend(); plt.title('Accuracy Curves')\n",
    "plt.savefig('learning_curves.png', dpi=150)"
   ]
  },
  {
   "cell_type": "code",
   "execution_count": 20,
   "id": "32de7ec4",
   "metadata": {},
   "outputs": [
    {
     "name": "stderr",
     "output_type": "stream",
     "text": [
      "c:\\Users\\ASUS\\AppData\\Local\\Programs\\Python\\Python312\\Lib\\site-packages\\shap\\explainers\\_deep\\deep_tf.py:94: UserWarning: Your TensorFlow version is newer than 2.4.0 and so graph support has been removed in eager mode and some static graphs may not be supported. See PR #1483 for discussion.\n",
      "  warnings.warn(\n",
      "c:\\Users\\ASUS\\AppData\\Local\\Programs\\Python\\Python312\\Lib\\site-packages\\keras\\src\\models\\functional.py:237: UserWarning: The structure of `inputs` doesn't match the expected structure.\n",
      "Expected: keras_tensor\n",
      "Received: inputs=['Tensor(shape=(50, 10))']\n",
      "  warnings.warn(msg)\n",
      "c:\\Users\\ASUS\\AppData\\Local\\Programs\\Python\\Python312\\Lib\\site-packages\\keras\\src\\models\\functional.py:237: UserWarning: The structure of `inputs` doesn't match the expected structure.\n",
      "Expected: keras_tensor\n",
      "Received: inputs=['Tensor(shape=(100, 10))']\n",
      "  warnings.warn(msg)\n"
     ]
    },
    {
     "data": {
      "image/png": "[encoded data removed]",
      "text/plain": [
       "<Figure size 800x550 with 1 Axes>"
      ]
     },
     "metadata": {},
     "output_type": "display_data"
    },
    {
     "data": {
      "text/plain": [
       "<Figure size 640x480 with 0 Axes>"
      ]
     },
     "metadata": {},
     "output_type": "display_data"
    }
   ],
   "source": [
    "# SHAP values for interpretability (add after training)\n",
    "import shap\n",
    "explainer = shap.DeepExplainer(model, X_train_scaled[:50])  # Sample 50 for speed\n",
    "shap_values = explainer.shap_values(X_test_scaled[:100])\n",
    "\n",
    "plt.figure(figsize=(10,6))\n",
    "shap.summary_plot(shap_values, X_test_scaled[:100], \n",
    "                  feature_names=X.columns, plot_type=\"bar\")\n",
    "plt.savefig('feature_importance.png', dpi=150)"
   ]
  },
  {
   "cell_type": "code",
   "execution_count": null,
   "id": "c2507199",
   "metadata": {},
   "outputs": [],
   "source": []
  }
 ],
 "metadata": {
  "kernelspec": {
   "display_name": "Python 3",
   "language": "python",
   "name": "python3"
  },
  "language_info": {
   "codemirror_mode": {
    "name": "ipython",
    "version": 3
   },
   "file_extension": ".py",
   "mimetype": "text/x-python",
   "name": "python",
   "nbconvert_exporter": "python",
   "pygments_lexer": "ipython3",
   "version": "3.12.6"
  }
 },
 "nbformat": 4,
 "nbformat_minor": 5
}
